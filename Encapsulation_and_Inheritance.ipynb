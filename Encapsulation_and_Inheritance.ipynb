{
  "nbformat": 4,
  "nbformat_minor": 0,
  "metadata": {
    "colab": {
      "provenance": [],
      "authorship_tag": "ABX9TyPfeo1PP/3EtQyJBqNj70Au",
      "include_colab_link": true
    },
    "kernelspec": {
      "name": "python3",
      "display_name": "Python 3"
    },
    "language_info": {
      "name": "python"
    }
  },
  "cells": [
    {
      "cell_type": "markdown",
      "metadata": {
        "id": "view-in-github",
        "colab_type": "text"
      },
      "source": [
        "<a href=\"https://colab.research.google.com/github/shane-marilao/58003-OOP/blob/main/Encapsulation_and_Inheritance.ipynb\" target=\"_parent\"><img src=\"https://colab.research.google.com/assets/colab-badge.svg\" alt=\"Open In Colab\"/></a>"
      ]
    },
    {
      "cell_type": "code",
      "source": [
        "class foo:\n",
        "  def __init__(self, a, b):\n",
        "    self.__a = a\n",
        "    self.__b = b\n",
        "  def add(self):\n",
        "    return self.__a + self.__b\n",
        "foo_object = foo(3,4)\n",
        "foo_object.add()"
      ],
      "metadata": {
        "colab": {
          "base_uri": "https://localhost:8080/"
        },
        "id": "et2PV5ViYgh2",
        "outputId": "3a09468b-3d9a-4cd0-81ac-546994b00e0b"
      },
      "execution_count": 11,
      "outputs": [
        {
          "output_type": "execute_result",
          "data": {
            "text/plain": [
              "7"
            ]
          },
          "metadata": {},
          "execution_count": 11
        }
      ]
    },
    {
      "cell_type": "code",
      "source": [
        "#Example 2\n",
        "\n",
        "class Counter:\n",
        "  def __init__(self, current):\n",
        "    self.__current = 0\n",
        "\n",
        "  def increment(self):\n",
        "    self.__current +=1\n",
        "\n",
        "  def value(self):\n",
        "    return self.__current\n",
        "\n",
        "  def reset (self):\n",
        "    self.__current = 0\n",
        "\n",
        "  def display_counter(self):\n",
        "    print (\"The increment is\", self.increment())\n",
        "    print (\"The current value is\", self.value())\n",
        "    print (\"Reset value is\", self.reset())\n",
        "\n",
        "counter1 = Counter (0)\n",
        "counter1.display_counter()"
      ],
      "metadata": {
        "colab": {
          "base_uri": "https://localhost:8080/"
        },
        "id": "xUe3FIVLaN_8",
        "outputId": "49e71c04-8c61-4877-af89-ca0c85b060fa"
      },
      "execution_count": 31,
      "outputs": [
        {
          "output_type": "stream",
          "name": "stdout",
          "text": [
            "The increment is None\n",
            "The current value is 1\n",
            "Reset value is None\n"
          ]
        }
      ]
    },
    {
      "cell_type": "code",
      "source": [
        "class Person:\n",
        "  def __init__(self,name,birthdate):\n",
        "    self.name = name\n",
        "    self.birthdate = birthdate\n",
        "  def display_identity(self):\n",
        "    print(\"My name is\",self.name)\n",
        "    print(\"My birthdate is\",self.birthdate)\n",
        "class Teacher(Person):\n",
        "  pass\n",
        "\n",
        "class Student(Person):\n",
        "  pass\n",
        "\n",
        "teacher = Teacher(\"Shane\", \"December 06,2002\")\n",
        "student = Person(\"Jeremy\", \"November 1,1997\")\n",
        "\n",
        "teacher.display_identity()\n",
        "student.display_identity()"
      ],
      "metadata": {
        "colab": {
          "base_uri": "https://localhost:8080/"
        },
        "id": "BMQ3L6igf9HM",
        "outputId": "a4a05f75-b0fc-4b02-ed6d-d463d670884a"
      },
      "execution_count": 35,
      "outputs": [
        {
          "output_type": "stream",
          "name": "stdout",
          "text": [
            "My name is Shane\n",
            "My birthdate is December 06,2002\n",
            "My name is Jeremy\n",
            "My birthdate is November 1,1997\n"
          ]
        }
      ]
    },
    {
      "cell_type": "code",
      "source": [
        "#Choose 5 examples of shapes (e.g triangle, square, rectangle)\n",
        "#class name is Shape\n",
        "#sides as attribute\n",
        "#Display() method to show the number of sides\n",
        "#Apply encapsulation by magling (double underscore)\n",
        "#Inheritance the properties of each shape from the parent class Shape\n",
        "\n",
        "class Shape:\n",
        "    def __init__(self, sides):\n",
        "        self.__sides = sides\n",
        "\n",
        "    def __display(self):\n",
        "        print(\"This shape has\", self.__sides, \"sides.\")\n",
        "\n",
        "    def show_sides(self):\n",
        "        self.__display()\n",
        "\n",
        "class Triangle(Shape):\n",
        "    def __init__(self):\n",
        "        super().__init__(3)\n",
        "\n",
        "class Square(Shape):\n",
        "    def __init__(self):\n",
        "        super().__init__(4)\n",
        "\n",
        "class Rectangle(Shape):\n",
        "    def __init__(self):\n",
        "        super().__init__(4)\n",
        "\n",
        "class Pentagon(Shape):\n",
        "    def __init__(self):\n",
        "        super().__init__(5)\n",
        "\n",
        "class Hexagon(Shape):\n",
        "    def __init__(self):\n",
        "        super().__init__(6)\n",
        "\n",
        "# create some shape objects and display their sides\n",
        "t = Triangle()\n",
        "t.show_sides()\n",
        "\n",
        "s = Square()\n",
        "s.show_sides()\n",
        "\n",
        "r = Rectangle()\n",
        "r.show_sides()\n",
        "\n",
        "p = Pentagon()\n",
        "p.show_sides()\n",
        "\n",
        "h = Hexagon()\n",
        "h.show_sides()"
      ],
      "metadata": {
        "colab": {
          "base_uri": "https://localhost:8080/"
        },
        "id": "VlwVwURViDoq",
        "outputId": "83869396-9800-4548-bb36-6b7733cfe934"
      },
      "execution_count": 36,
      "outputs": [
        {
          "output_type": "stream",
          "name": "stdout",
          "text": [
            "This shape has 3 sides.\n",
            "This shape has 4 sides.\n",
            "This shape has 4 sides.\n",
            "This shape has 5 sides.\n",
            "This shape has 6 sides.\n"
          ]
        }
      ]
    }
  ]
}