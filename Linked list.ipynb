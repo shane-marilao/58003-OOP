{
  "cells": [
    {
      "cell_type": "markdown",
      "metadata": {
        "id": "view-in-github",
        "colab_type": "text"
      },
      "source": [
        "<a href=\"https://colab.research.google.com/github/shane-marilao/58003-OOP/blob/main/Linked%20list.ipynb\" target=\"_parent\"><img src=\"https://colab.research.google.com/assets/colab-badge.svg\" alt=\"Open In Colab\"/></a>"
      ]
    },
    {
      "cell_type": "code",
      "source": [
        "import array\n",
        "array.typecodes #get all typecodes\n",
        "a = array.array(‘i’, [1,2,3,4,5,6]) #initializing array a\n",
        " b = array.array(‘f’, [1.5,2.5,3.5,4.5,5.5,6.5]) #initializing array b\n",
        " a.typecode #getting the typecode of a\n",
        " b.typecode #getting the typecode of b"
      ],
      "metadata": {
        "id": "aoYIkum1J43a"
      },
      "execution_count": null,
      "outputs": []
    },
    {
      "cell_type": "code",
      "source": [
        "a= array('i',[4,5,6,7]) # initializing array\n",
        "a.insert(1,2) # inserting element: 2 at index: 1\n",
        "a # Printing array aarray('i', [4, 2, 5, 6, 7])\n",
        "a.insert(-1,0) # insert element: 0 at index: -1\n",
        "a\n",
        "a.insert(10, -1) # insert element: -1 at index: 10, this is out of range\n",
        "a\n",
        "array('i', [4, 2, 5, 6, 0, 7, -1])"
      ],
      "metadata": {
        "id": "TJg8Qtd1Krbc"
      },
      "execution_count": null,
      "outputs": []
    },
    {
      "cell_type": "markdown",
      "source": [
        "Example 3"
      ],
      "metadata": {
        "id": "0vzRYsOrMRgi"
      }
    },
    {
      "cell_type": "code",
      "source": [
        "# Node class\n",
        "class Node:\n",
        "  # Function to initialize the node object\n",
        "  def __init__(self, data):\n",
        "    self.data = data # Assign data\n",
        "    self.next = None # Initialize\n",
        "    # next as null\n",
        "    # Linked List class\n",
        "    class LinkedList:\n",
        "      # Function to initialize the Linked\n",
        "      # List object\n",
        "      def __init__(self):\n",
        "        self.head = None"
      ],
      "metadata": {
        "id": "ZgeuKcMPMW2q"
      },
      "execution_count": 7,
      "outputs": []
    },
    {
      "cell_type": "markdown",
      "source": [
        "Example 4"
      ],
      "metadata": {
        "id": "-UEz_CjZOsYL"
      }
    },
    {
      "cell_type": "code",
      "source": [
        "# Node class\n",
        "class Node:\n",
        "  # Function to initialize the node object\n",
        "  def __init__(self, data):\n",
        "    self.data = data # Assign data\n",
        "    self.next = None # Initialize next as null\n",
        "    # Linked List class contains a Node objectclass LinkedList:\n",
        "    # Function to initialize head\n",
        "    def __init__(self):\n",
        "      self.head = None"
      ],
      "metadata": {
        "id": "kUFt-apnOtwr"
      },
      "execution_count": 8,
      "outputs": []
    }
  ],
  "metadata": {
    "colab": {
      "name": "Welcome To Colaboratory",
      "provenance": [],
      "include_colab_link": true
    },
    "kernelspec": {
      "display_name": "Python 3",
      "name": "python3"
    }
  },
  "nbformat": 4,
  "nbformat_minor": 0
}