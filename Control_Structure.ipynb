{
  "nbformat": 4,
  "nbformat_minor": 0,
  "metadata": {
    "colab": {
      "provenance": [],
      "authorship_tag": "ABX9TyObDsGRkp4ojDLeL8gDgaey",
      "include_colab_link": true
    },
    "kernelspec": {
      "name": "python3",
      "display_name": "Python 3"
    },
    "language_info": {
      "name": "python"
    }
  },
  "cells": [
    {
      "cell_type": "markdown",
      "metadata": {
        "id": "view-in-github",
        "colab_type": "text"
      },
      "source": [
        "<a href=\"https://colab.research.google.com/github/shane-marilao/OOP-58003/blob/main/Control_Structure.ipynb\" target=\"_parent\"><img src=\"https://colab.research.google.com/assets/colab-badge.svg\" alt=\"Open In Colab\"/></a>"
      ]
    },
    {
      "cell_type": "markdown",
      "source": [
        "If and Elif Condition"
      ],
      "metadata": {
        "id": "Co755oGk7vwq"
      }
    },
    {
      "cell_type": "code",
      "source": [
        "if 3>2:\n",
        "  print(\"three is greater than two\")\n",
        "elif 3==2:\n",
        "  print(\"three is equal two\")"
      ],
      "metadata": {
        "colab": {
          "base_uri": "https://localhost:8080/"
        },
        "id": "gPzWQ_Kq7ycp",
        "outputId": "693427bd-93c8-4167-f874-ae1852e3a1c2"
      },
      "execution_count": null,
      "outputs": [
        {
          "output_type": "stream",
          "name": "stdout",
          "text": [
            "three is greater than two\n"
          ]
        }
      ]
    },
    {
      "cell_type": "markdown",
      "source": [
        "if , elif, and else"
      ],
      "metadata": {
        "id": "0z85FG0n9KCp"
      }
    },
    {
      "cell_type": "code",
      "source": [
        "if 3>2:\n",
        "  print(\"three is greater than two\")\n",
        "elif 3==2:\n",
        "  print(\"three is equal two\")\n",
        "else: \n",
        "  print(\"three is less than two\")"
      ],
      "metadata": {
        "colab": {
          "base_uri": "https://localhost:8080/"
        },
        "id": "Hzp7p7gy97Qo",
        "outputId": "a6e9284b-d173-4495-8cdc-dcdcd7dbd145"
      },
      "execution_count": null,
      "outputs": [
        {
          "output_type": "stream",
          "name": "stdout",
          "text": [
            "three is greater than two\n"
          ]
        }
      ]
    },
    {
      "cell_type": "markdown",
      "source": [
        "Application 1- create a python program that will compare if the student"
      ],
      "metadata": {
        "id": "7DzGd1HP-bz3"
      }
    },
    {
      "cell_type": "code",
      "source": [
        "print(\"Type the grade level of student\")\n",
        "print(\"1-6 = Elementary\")\n",
        "print(\"7-12 = Secondary\")\n",
        "print(\"None of the choices above = Tertiary\")\n",
        "\n",
        "x = int(input())\n",
        "if x ==1 or x ==2 or x ==3 or x ==4 or x==5 or x==6:\n",
        "   print(\"Elementary\")\n",
        "elif x==7 or x==8 or x==9 or x==10 or x==11 or x==12:\n",
        "  print(\"Secondary\")\n",
        "else:\n",
        "  print(\"You're in tertiary level\")"
      ],
      "metadata": {
        "colab": {
          "base_uri": "https://localhost:8080/"
        },
        "id": "LQPkvje0-2Mw",
        "outputId": "6f74495c-a0c1-4982-aead-144ae2d454bf"
      },
      "execution_count": null,
      "outputs": [
        {
          "output_type": "stream",
          "name": "stdout",
          "text": [
            "Type the grade level of student\n",
            "1-6 = Elementary\n",
            "7-12 = Secondary\n",
            "None of the choices above = Tertiary\n",
            "13\n",
            "You're in tertiary level\n"
          ]
        }
      ]
    },
    {
      "cell_type": "markdown",
      "source": [
        "Short Hand If Statement"
      ],
      "metadata": {
        "id": "Hvbu6MlTBvXo"
      }
    },
    {
      "cell_type": "code",
      "source": [
        "a = 1\n",
        "b = 2\n",
        "\n",
        "if a<b: print(\"a is less than b\")\n"
      ],
      "metadata": {
        "colab": {
          "base_uri": "https://localhost:8080/"
        },
        "id": "HOe-A6QGB6hw",
        "outputId": "b99e3121-c45c-4728-9cbd-8eb2d3939bc1"
      },
      "execution_count": null,
      "outputs": [
        {
          "output_type": "stream",
          "name": "stdout",
          "text": [
            "a is less than b\n"
          ]
        }
      ]
    },
    {
      "cell_type": "markdown",
      "source": [
        "Short Hand if... Else\n"
      ],
      "metadata": {
        "id": "pNUHqHQtCtwJ"
      }
    },
    {
      "cell_type": "code",
      "source": [
        "print (\"a is less than b\")if a<b else print (\"a is greater than b\")"
      ],
      "metadata": {
        "colab": {
          "base_uri": "https://localhost:8080/"
        },
        "id": "Ri4vT7_2Cyoh",
        "outputId": "e29b70db-07d6-46de-abc8-a554473accec"
      },
      "execution_count": null,
      "outputs": [
        {
          "output_type": "stream",
          "name": "stdout",
          "text": [
            "a is less than b\n"
          ]
        }
      ]
    },
    {
      "cell_type": "markdown",
      "source": [
        "Nested If...Else"
      ],
      "metadata": {
        "id": "14Ot8NkBElCA"
      }
    },
    {
      "cell_type": "code",
      "source": [
        "x = 41\n",
        "\n",
        "if x > 10:\n",
        "  print(\"Above ten,\")\n",
        "  if x > 20:\n",
        "    print(\"and also above 20!\")\n",
        "    if x> 30:\n",
        "      print(\"and also above 30\")\n",
        "      if x>40:\n",
        "        print (\"and also above 40\")\n",
        "        if x>50:\n",
        "          print (\"and also above 50\")\n",
        "        else:\n",
        "          print (\"below 50\")\n",
        "      else:\n",
        "        print (\"below 40\")\n",
        "  else:\n",
        "    print(\"below 30\")\n",
        "else:\n",
        "  print(\"below 10\")"
      ],
      "metadata": {
        "colab": {
          "base_uri": "https://localhost:8080/"
        },
        "id": "G8KUKRFxEoYI",
        "outputId": "6d19b47f-e511-4404-b8d0-94e7d7c9c8ab"
      },
      "execution_count": null,
      "outputs": [
        {
          "output_type": "stream",
          "name": "stdout",
          "text": [
            "Above ten,\n",
            "and also above 20!\n",
            "and also above 30\n",
            "and also above 40\n",
            "below 50\n"
          ]
        }
      ]
    },
    {
      "cell_type": "markdown",
      "source": [
        "Example 1: Write a program that determines if the input ageis qualified to vote or not. The qualifying age is18 years old and above."
      ],
      "metadata": {
        "id": "pnZ3KLusH1Vo"
      }
    },
    {
      "cell_type": "code",
      "source": [
        "age = int(input(\"Enter age : \"))\n",
        "\n",
        "if age >= 18:\n",
        "  print(\"Eligible for Voting!\")\n",
        "else:\n",
        "  print(\"Not Eligible for Voting!\")"
      ],
      "metadata": {
        "colab": {
          "base_uri": "https://localhost:8080/"
        },
        "id": "RUlvwXYIH3_4",
        "outputId": "cd3de2f4-7b31-45cd-9d80-1d7be8f7f621"
      },
      "execution_count": null,
      "outputs": [
        {
          "output_type": "stream",
          "name": "stdout",
          "text": [
            "Enter age : 20\n",
            "Eligible for Voting!\n"
          ]
        }
      ]
    },
    {
      "cell_type": "markdown",
      "source": [
        "Example 2: Write a program that determines if the input number is POSITIVE, NEGATIVE, or ZERO."
      ],
      "metadata": {
        "id": "rCh4nJ4_Lgxg"
      }
    },
    {
      "cell_type": "code",
      "source": [
        "n = float(input(\"Input a number: \"))\n",
        "if n >= 0:\n",
        "  if n == 0:\n",
        "      print(\"It's Zero\")\n",
        "  else:\n",
        "      print(\"Number is Positive number.\")\n",
        "else:\n",
        "  print(\"Number is Negative number.\")"
      ],
      "metadata": {
        "colab": {
          "base_uri": "https://localhost:8080/"
        },
        "id": "tz5cDkMNLjF4",
        "outputId": "b37a069c-7d07-48bd-f087-3d3c93a6a1d0"
      },
      "execution_count": null,
      "outputs": [
        {
          "output_type": "stream",
          "name": "stdout",
          "text": [
            "Input a number: 6\n",
            "Number is Positive number.\n"
          ]
        }
      ]
    },
    {
      "cell_type": "markdown",
      "source": [
        "Example 3: Write a program to determine if the grades are: If:grade > = 70 , “Passed” grade is 65 to 69, “Remedial” grade > 64 or below, “Failed” note: if grade is a negative number, it will not accepted."
      ],
      "metadata": {
        "id": "71laNSvhNHIo"
      }
    },
    {
      "cell_type": "code",
      "source": [
        "print(\"Input Subject Grades\")\n",
        "u = int(input())\n",
        "v = int(input())\n",
        "x = int(input())\n",
        "y = int(input())\n",
        "z = int(input())\n",
        "\n",
        "a = u*0.10 + v*0.20 + x*0.20 + y*0.30 + z*0.20 \n",
        "print(\"Your average grade is\",a)\n",
        "if a>75:\n",
        "  print(\"Passed\")\n",
        "elif a>70:\n",
        "  print(\"Remedial\")\n",
        "elif a>65:\n",
        "  print(\"Failed\")"
      ],
      "metadata": {
        "colab": {
          "base_uri": "https://localhost:8080/"
        },
        "id": "NOg-ZnEpNI44",
        "outputId": "5d4691a6-b271-4852-e531-7739a8fc134d"
      },
      "execution_count": null,
      "outputs": [
        {
          "output_type": "stream",
          "name": "stdout",
          "text": [
            "Input Subject Grades\n",
            "88\n",
            "75\n",
            "90\n",
            "88\n",
            "90\n",
            "Your average grade is 86.19999999999999\n",
            "Passed\n"
          ]
        }
      ]
    }
  ]
}