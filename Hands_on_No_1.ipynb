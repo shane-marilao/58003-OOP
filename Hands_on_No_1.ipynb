{
  "nbformat": 4,
  "nbformat_minor": 0,
  "metadata": {
    "colab": {
      "provenance": [],
      "authorship_tag": "ABX9TyNaVNMvbm9q+JdXDzkXsqbF",
      "include_colab_link": true
    },
    "kernelspec": {
      "name": "python3",
      "display_name": "Python 3"
    },
    "language_info": {
      "name": "python"
    }
  },
  "cells": [
    {
      "cell_type": "markdown",
      "metadata": {
        "id": "view-in-github",
        "colab_type": "text"
      },
      "source": [
        "<a href=\"https://colab.research.google.com/github/shane-marilao/58003-OOP/blob/main/Hands_on_No_1.ipynb\" target=\"_parent\"><img src=\"https://colab.research.google.com/assets/colab-badge.svg\" alt=\"Open In Colab\"/></a>"
      ]
    },
    {
      "cell_type": "code",
      "source": [
        "class Person:\n",
        "  def __init__(self,pre,mid,fin):\n",
        "    self.pre = pre\n",
        "    self.mid = mid\n",
        "    self.fin = fin\n",
        "\n",
        "  def grade(self):\n",
        "    average = (self.pre+self.mid+self.fin)/3\n",
        "    print(\"The average grade is\",average)\n",
        "\n",
        "std1 = Person(80,85,88)\n",
        "std1.grade()\n",
        "\n",
        "std2 = Person(92,89,95)\n",
        "std2.grade()\n",
        "\n",
        "std3 = Person(78,81,83)\n",
        "std3.grade()"
      ],
      "metadata": {
        "colab": {
          "base_uri": "https://localhost:8080/"
        },
        "id": "oMZQk6JkVFq-",
        "outputId": "643331ad-542f-4d63-e9ed-38261197615b"
      },
      "execution_count": 4,
      "outputs": [
        {
          "output_type": "stream",
          "name": "stdout",
          "text": [
            "The average grade is 84.33333333333333\n",
            "The average grade is 92.0\n",
            "The average grade is 80.66666666666667\n"
          ]
        }
      ]
    }
  ]
}