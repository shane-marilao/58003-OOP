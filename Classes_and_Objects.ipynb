{
  "nbformat": 4,
  "nbformat_minor": 0,
  "metadata": {
    "colab": {
      "provenance": [],
      "authorship_tag": "ABX9TyPEjhMrVYc3BXb6ePLG1iOc",
      "include_colab_link": true
    },
    "kernelspec": {
      "name": "python3",
      "display_name": "Python 3"
    },
    "language_info": {
      "name": "python"
    }
  },
  "cells": [
    {
      "cell_type": "markdown",
      "metadata": {
        "id": "view-in-github",
        "colab_type": "text"
      },
      "source": [
        "<a href=\"https://colab.research.google.com/github/shane-marilao/58003-OOP/blob/main/Classes_and_Objects.ipynb\" target=\"_parent\"><img src=\"https://colab.research.google.com/assets/colab-badge.svg\" alt=\"Open In Colab\"/></a>"
      ]
    },
    {
      "cell_type": "code",
      "execution_count": 1,
      "metadata": {
        "colab": {
          "base_uri": "https://localhost:8080/"
        },
        "id": "trkJWcKLl4Zh",
        "outputId": "03bb3949-5e33-4a91-e255-994047f6f794"
      },
      "outputs": [
        {
          "output_type": "stream",
          "name": "stdout",
          "text": [
            "The perimeter of the rectangle is 30\n",
            "The area of the rectangle is 50\n"
          ]
        },
        {
          "output_type": "execute_result",
          "data": {
            "text/plain": [
              "(10, 5)"
            ]
          },
          "metadata": {},
          "execution_count": 1
        }
      ],
      "source": [
        "#Write a Rectangle class in Python language with length and width as attributes\n",
        "#Create a Perimeter() and Area() as methods to compute for the perimeter and area of the rectangle\n",
        "\n",
        "class Rectangle:\n",
        "  def __init__(self,length,width):\n",
        "    self.length = length\n",
        "    self.width = width\n",
        "\n",
        "  def Perimeter(self):\n",
        "    return 2*(self.length + self.width)\n",
        "  \n",
        "  def Area(self):\n",
        "    return self.length * self.width\n",
        "\n",
        "  def Rectangle(self):\n",
        "    return self.length, self.width\n",
        "\n",
        "  def display(self):\n",
        "    print(\"The perimeter of the rectangle is\",self.Perimeter())\n",
        "    print(\"The area of the rectangle is\",self.Area())\n",
        "\n",
        "rectangle = Rectangle(10,5)\n",
        "\n",
        "rectangle.display()\n",
        "rectangle.Rectangle()"
      ]
    },
    {
      "cell_type": "code",
      "source": [
        "#Modify the object properties\n",
        "rectangle.length = 7\n",
        "\n",
        "rectangle.Rectangle()\n",
        "\n",
        "rectangle.display()"
      ],
      "metadata": {
        "colab": {
          "base_uri": "https://localhost:8080/"
        },
        "id": "qH1elw_6mPkK",
        "outputId": "75721336-05bb-4533-f026-d015c2a53094"
      },
      "execution_count": 2,
      "outputs": [
        {
          "output_type": "stream",
          "name": "stdout",
          "text": [
            "The perimeter of the rectangle is 24\n",
            "The area of the rectangle is 35\n"
          ]
        }
      ]
    },
    {
      "cell_type": "code",
      "source": [
        "#Deletion of object properties\n",
        "\n",
        "del rectangle\n",
        "rectangle.Rectangle()"
      ],
      "metadata": {
        "colab": {
          "base_uri": "https://localhost:8080/",
          "height": 200
        },
        "id": "oQByeApjmVze",
        "outputId": "c9beb4b3-ce82-4fc3-a986-2e0a1dcf97c1"
      },
      "execution_count": 3,
      "outputs": [
        {
          "output_type": "error",
          "ename": "NameError",
          "evalue": "ignored",
          "traceback": [
            "\u001b[0;31m---------------------------------------------------------------------------\u001b[0m",
            "\u001b[0;31mNameError\u001b[0m                                 Traceback (most recent call last)",
            "\u001b[0;32m<ipython-input-3-927a24f4c885>\u001b[0m in \u001b[0;36m<module>\u001b[0;34m\u001b[0m\n\u001b[1;32m      2\u001b[0m \u001b[0;34m\u001b[0m\u001b[0m\n\u001b[1;32m      3\u001b[0m \u001b[0;32mdel\u001b[0m \u001b[0mrectangle\u001b[0m\u001b[0;34m\u001b[0m\u001b[0;34m\u001b[0m\u001b[0m\n\u001b[0;32m----> 4\u001b[0;31m \u001b[0mrectangle\u001b[0m\u001b[0;34m.\u001b[0m\u001b[0mRectangle\u001b[0m\u001b[0;34m(\u001b[0m\u001b[0;34m)\u001b[0m\u001b[0;34m\u001b[0m\u001b[0;34m\u001b[0m\u001b[0m\n\u001b[0m",
            "\u001b[0;31mNameError\u001b[0m: name 'rectangle' is not defined"
          ]
        }
      ]
    },
    {
      "cell_type": "code",
      "source": [
        "#Short Activity\n",
        "\n",
        "#Write a Python program to create the following:\n",
        "# Student as a Class Name\n",
        "# Full Name, Age, and School as Attributes\n",
        "# Identity as Method\n",
        "# Student as Object Name\n",
        "\n",
        "#Note: This will display all the student's identity such as Full Name, Age, and School\n",
        "\n",
        "class Student:\n",
        "    def __init__(self, full_name, age, school):\n",
        "        self.full_name = full_name\n",
        "        self.age = age\n",
        "        self.school = school\n",
        "    \n",
        "    def identity(self):\n",
        "        print(f\"Name: {self.full_name}\\nAge: {self.age}\\nSchool: {self.school}\")\n",
        "\n",
        "# Creating a student object\n",
        "student1 = Student(\"Shane Marilao\", 20, \"Adamson University\")\n",
        "\n",
        "# Calling the identity method to display the student's identity\n",
        "student1.identity()"
      ],
      "metadata": {
        "colab": {
          "base_uri": "https://localhost:8080/"
        },
        "id": "Llo43ZDXmaNO",
        "outputId": "c820aec1-d032-4bd7-8e2b-8c07cf0eedd2"
      },
      "execution_count": 4,
      "outputs": [
        {
          "output_type": "stream",
          "name": "stdout",
          "text": [
            "Name: Shane Marilao\n",
            "Age: 20\n",
            "School: Adamson University\n"
          ]
        }
      ]
    }
  ]
}