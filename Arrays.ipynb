{
  "nbformat": 4,
  "nbformat_minor": 0,
  "metadata": {
    "colab": {
      "provenance": [],
      "authorship_tag": "ABX9TyPuHmxG/xTzAaV8A4zRJ/VO",
      "include_colab_link": true
    },
    "kernelspec": {
      "name": "python3",
      "display_name": "Python 3"
    },
    "language_info": {
      "name": "python"
    }
  },
  "cells": [
    {
      "cell_type": "markdown",
      "metadata": {
        "id": "view-in-github",
        "colab_type": "text"
      },
      "source": [
        "<a href=\"https://colab.research.google.com/github/shane-marilao/58003-OOP/blob/main/Arrays.ipynb\" target=\"_parent\"><img src=\"https://colab.research.google.com/assets/colab-badge.svg\" alt=\"Open In Colab\"/></a>"
      ]
    },
    {
      "cell_type": "code",
      "source": [
        "#Creating array elements\n",
        "animals = [\"cat\", 'dog', 'fish']\n",
        "x = animals[0]\n",
        "print (x)\n",
        "y = animals [1]\n",
        "print(y)\n",
        "z = animals [2]\n",
        "print(z)\n"
      ],
      "metadata": {
        "colab": {
          "base_uri": "https://localhost:8080/"
        },
        "id": "z4aKAgzoiiVZ",
        "outputId": "fc19b01e-6630-448e-bbd7-d99ec8401aac"
      },
      "execution_count": 5,
      "outputs": [
        {
          "output_type": "stream",
          "name": "stdout",
          "text": [
            "cat\n",
            "dog\n",
            "fish\n"
          ]
        }
      ]
    },
    {
      "cell_type": "code",
      "source": [
        "#Modifying array elements\n",
        "animals[0]='monkey'\n",
        "print(animals[0])\n",
        "print(\"The array of animals:\", animals)"
      ],
      "metadata": {
        "colab": {
          "base_uri": "https://localhost:8080/"
        },
        "id": "3MOzR1kIjWzD",
        "outputId": "4c616bcf-c977-4085-fb46-32d389b3c5c2"
      },
      "execution_count": 6,
      "outputs": [
        {
          "output_type": "stream",
          "name": "stdout",
          "text": [
            "monkey\n",
            "The array of animals: ['monkey', 'dog', 'fish']\n"
          ]
        }
      ]
    },
    {
      "cell_type": "code",
      "source": [
        "#Length of an array\n",
        "x = len(animals)\n",
        "print(x)"
      ],
      "metadata": {
        "colab": {
          "base_uri": "https://localhost:8080/"
        },
        "id": "PTodY0VckRuD",
        "outputId": "2b8aa04f-e487-4e22-8f81-d67712daf3c4"
      },
      "execution_count": 13,
      "outputs": [
        {
          "output_type": "stream",
          "name": "stdout",
          "text": [
            "2\n"
          ]
        }
      ]
    },
    {
      "cell_type": "code",
      "source": [
        "#Deletion of elements in an array\n",
        "\n",
        "print(animals)"
      ],
      "metadata": {
        "colab": {
          "base_uri": "https://localhost:8080/"
        },
        "id": "fMMk6gmJkuzN",
        "outputId": "09439ad0-5429-4249-8723-0dbe1baaaa3b"
      },
      "execution_count": 14,
      "outputs": [
        {
          "output_type": "stream",
          "name": "stdout",
          "text": [
            "['monkey', 'dog']\n"
          ]
        }
      ]
    },
    {
      "cell_type": "code",
      "source": [
        "#append element in array\n",
        "animals = ['monkey','cat','dog', 'fish']\n",
        "animals.append(\"bird\")\n",
        "print(animals)"
      ],
      "metadata": {
        "colab": {
          "base_uri": "https://localhost:8080/"
        },
        "id": "TaeHr3pLmQgD",
        "outputId": "0bc88b6d-3f5f-45be-f1d0-9cce4a80c113"
      },
      "execution_count": 15,
      "outputs": [
        {
          "output_type": "stream",
          "name": "stdout",
          "text": [
            "['monkey', 'cat', 'dog', 'fish', 'bird']\n"
          ]
        }
      ]
    },
    {
      "cell_type": "code",
      "source": [
        "#insert an element in an array\n",
        "animals = ['monkey','cat','dog', 'fish']\n",
        "animals.insert(0, \"bird\")\n",
        "print(animals)\n",
        "animals.insert(2, \"lion\")  \n",
        "print(animals)            "
      ],
      "metadata": {
        "colab": {
          "base_uri": "https://localhost:8080/"
        },
        "id": "gRFJZGBqmoa3",
        "outputId": "abed8515-bc3a-4025-ac84-9acd832c2224"
      },
      "execution_count": 24,
      "outputs": [
        {
          "output_type": "stream",
          "name": "stdout",
          "text": [
            "['bird', 'monkey', 'cat', 'dog', 'fish']\n",
            "['bird', 'monkey', 'lion', 'cat', 'dog', 'fish']\n"
          ]
        }
      ]
    },
    {
      "cell_type": "code",
      "source": [
        "#delete dog from array elements\n",
        "print(animals)\n",
        "animals.remove(\"dog\")\n",
        "print(animals)\n"
      ],
      "metadata": {
        "colab": {
          "base_uri": "https://localhost:8080/"
        },
        "id": "RXkPThb5nPvv",
        "outputId": "2be445db-b480-4f9f-fcff-eb082cb2c81a"
      },
      "execution_count": 25,
      "outputs": [
        {
          "output_type": "stream",
          "name": "stdout",
          "text": [
            "['bird', 'monkey', 'lion', 'cat', 'dog', 'fish']\n",
            "['bird', 'monkey', 'lion', 'cat', 'fish']\n"
          ]
        }
      ]
    }
  ]
}