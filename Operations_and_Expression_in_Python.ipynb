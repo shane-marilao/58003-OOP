{
  "nbformat": 4,
  "nbformat_minor": 0,
  "metadata": {
    "colab": {
      "provenance": [],
      "authorship_tag": "ABX9TyMSMWJmHxe4iRw+3HE0Kxnq",
      "include_colab_link": true
    },
    "kernelspec": {
      "name": "python3",
      "display_name": "Python 3"
    },
    "language_info": {
      "name": "python"
    }
  },
  "cells": [
    {
      "cell_type": "markdown",
      "metadata": {
        "id": "view-in-github",
        "colab_type": "text"
      },
      "source": [
        "<a href=\"https://colab.research.google.com/github/shane-marilao/58003-OOP/blob/main/Operations_and_Expression_in_Python.ipynb\" target=\"_parent\"><img src=\"https://colab.research.google.com/assets/colab-badge.svg\" alt=\"Open In Colab\"/></a>"
      ]
    },
    {
      "cell_type": "markdown",
      "source": [
        "Boolean Operators"
      ],
      "metadata": {
        "id": "OoxWWxnd-4yW"
      }
    },
    {
      "cell_type": "code",
      "execution_count": 1,
      "metadata": {
        "colab": {
          "base_uri": "https://localhost:8080/"
        },
        "id": "DcgBTVIv-32B",
        "outputId": "1e829846-7deb-47ce-a98d-8872b44d1290"
      },
      "outputs": [
        {
          "output_type": "stream",
          "name": "stdout",
          "text": [
            "False\n",
            "False\n",
            "True\n",
            "True\n",
            "True\n"
          ]
        }
      ],
      "source": [
        "print(10<9)\n",
        "print(10==9)\n",
        "print(10>9)\n",
        "print(10==10)\n",
        "print(9==9)"
      ]
    },
    {
      "cell_type": "code",
      "source": [
        "#Bool() Function\n",
        "print(bool(1))\n",
        "print(bool(\"Maria\"))\n",
        "print(bool(-1))\n",
        "print(bool(0))\n",
        "print(bool(None))\n",
        "print(bool([]))"
      ],
      "metadata": {
        "id": "mW_ZeNwCA_5v"
      },
      "execution_count": null,
      "outputs": []
    },
    {
      "cell_type": "code",
      "source": [
        "#Function can Return a Boolean\n",
        "def myFunction():\n",
        "  return True \n",
        "print(myFunction())"
      ],
      "metadata": {
        "id": "xubKX0eKBCfP"
      },
      "execution_count": null,
      "outputs": []
    },
    {
      "cell_type": "markdown",
      "source": [
        "Python Operators"
      ],
      "metadata": {
        "id": "67aIe8xNBKM3"
      }
    },
    {
      "cell_type": "code",
      "source": [
        "print(10+5)\n",
        "print(10-5)\n",
        "print(10*5)\n",
        "print(10/5)\n",
        "print(10//3)\n",
        "print(10%3)"
      ],
      "metadata": {
        "id": "O18hHXueBfcH"
      },
      "execution_count": null,
      "outputs": []
    },
    {
      "cell_type": "markdown",
      "source": [
        "Bitwise Operator"
      ],
      "metadata": {
        "id": "FKKbIx31LGa5"
      }
    },
    {
      "cell_type": "code",
      "source": [
        "a = 60\n",
        "b = 13\n",
        "\n",
        "print(a&b)\n",
        "print(a | b)\n",
        "print(a<<1)\n",
        "print(a<<2)"
      ],
      "metadata": {
        "id": "kfj8-_q_LI_R"
      },
      "execution_count": null,
      "outputs": []
    },
    {
      "cell_type": "markdown",
      "source": [
        "Python Assignment Operators"
      ],
      "metadata": {
        "id": "VriwZ3NsLOSp"
      }
    },
    {
      "cell_type": "code",
      "source": [
        "x=6\n",
        "x+=3 #same as x = x + 3 \n",
        "              # x = (6) + 3 = 9\n",
        "print(x)"
      ],
      "metadata": {
        "id": "-yxWi2ZBLO7g"
      },
      "execution_count": null,
      "outputs": []
    },
    {
      "cell_type": "markdown",
      "source": [
        "Logical Operator"
      ],
      "metadata": {
        "id": "c0KL_CDKLUTJ"
      }
    },
    {
      "cell_type": "code",
      "source": [
        "t= True\n",
        "s= False\n",
        "\n",
        "print(t and s)\n",
        "print(t or s)\n",
        "print(not (t or s)) #not(True) = False "
      ],
      "metadata": {
        "id": "Dh4y-sACLU5h"
      },
      "execution_count": null,
      "outputs": []
    },
    {
      "cell_type": "markdown",
      "source": [
        "Identity Operator"
      ],
      "metadata": {
        "id": "AYh0JAebLXwI"
      }
    },
    {
      "cell_type": "code",
      "source": [
        "#is is not\n",
        "\n",
        "t = True\n",
        "s = False\n",
        "print(t is t)\n",
        "print(t is s)\n",
        "print(t is not s)"
      ],
      "metadata": {
        "colab": {
          "base_uri": "https://localhost:8080/"
        },
        "id": "cyfAE7ZvLZwp",
        "outputId": "59e23e09-89d3-4945-fe1e-077419026e3b"
      },
      "execution_count": 8,
      "outputs": [
        {
          "output_type": "stream",
          "name": "stdout",
          "text": [
            "True\n",
            "False\n",
            "True\n"
          ]
        }
      ]
    },
    {
      "cell_type": "markdown",
      "source": [
        "Application 1 Create a Standard Calculator (MDAS)"
      ],
      "metadata": {
        "id": "zOF7D_PbLdKo"
      }
    },
    {
      "cell_type": "code",
      "source": [
        "x=int(input())\n",
        "y=int(input())\n",
        "\n",
        "z=x+y\n",
        "print(z)\n",
        "z=x-y\n",
        "print(z)\n",
        "z=x*y\n",
        "print(z)\n",
        "z=x/y\n",
        "print(z)"
      ],
      "metadata": {
        "id": "vDnf-lFmLe0Z"
      },
      "execution_count": null,
      "outputs": []
    }
  ]
}